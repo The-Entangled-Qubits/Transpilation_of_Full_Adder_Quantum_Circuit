{
  "nbformat": 4,
  "nbformat_minor": 0,
  "metadata": {
    "colab": {
      "name": "Optimizing Quantum Circuits.ipynb",
      "provenance": [],
      "authorship_tag": "ABX9TyO4hI9gjD/D3uFcwpDBnAQe",
      "include_colab_link": true
    },
    "kernelspec": {
      "name": "python3",
      "display_name": "Python 3"
    }
  },
  "cells": [
    {
      "cell_type": "markdown",
      "metadata": {
        "id": "view-in-github",
        "colab_type": "text"
      },
      "source": [
        "<a href=\"https://colab.research.google.com/github/mstale007/Transpilation_of_Full_Adder_Quantum_Circuit/blob/main/Optimizing_Quantum_Circuits.ipynb\" target=\"_parent\"><img src=\"https://colab.research.google.com/assets/colab-badge.svg\" alt=\"Open In Colab\"/></a>"
      ]
    },
    {
      "cell_type": "markdown",
      "metadata": {
        "id": "CTXxAjSK8sQm"
      },
      "source": [
        "## Install Qiskit"
      ]
    },
    {
      "cell_type": "code",
      "metadata": {
        "id": "DsAPUsBEsfk3"
      },
      "source": [
        "!pip3 install qiskit"
      ],
      "execution_count": null,
      "outputs": []
    },
    {
      "cell_type": "code",
      "metadata": {
        "id": "h6N3M7-4suqr"
      },
      "source": [
        "from qiskit import *\n",
        "import matplotlib"
      ],
      "execution_count": 20,
      "outputs": []
    },
    {
      "cell_type": "markdown",
      "metadata": {
        "id": "8tM518GvuD5X"
      },
      "source": [
        "# Let's build an adder circuit\n",
        "\n",
        "*   A full adder adds two input bits say X and Y plus a Carry and gives sum and generated carry as output\n",
        "*   To implement a Full Adder on a quantum computer we will need 5 qubits:\n",
        "\n",
        "      1.   Two for inputs bits X and Y\n",
        "      2.   One for input Carry (Cin)\n",
        "      3.   One for output Sum\n",
        "      4.   One for output Carry (Cout)"
      ]
    },
    {
      "cell_type": "markdown",
      "metadata": {
        "id": "q-Q6H5Rq0HB7"
      },
      "source": [
        "For calculating sum we will simply use CNOT gate \n",
        "\n",
        "And for finding Cout we will use a  Controlled-Controlled-Not gate or Toffoli gate like this:\n",
        "\n",
        "\n"
      ]
    },
    {
      "cell_type": "code",
      "metadata": {
        "id": "zsDlcUArs3Jl"
      },
      "source": [
        "qr=QuantumRegister(5,'q')\n",
        "cr=ClassicalRegister(2,'c')"
      ],
      "execution_count": 21,
      "outputs": []
    },
    {
      "cell_type": "code",
      "metadata": {
        "id": "45lbIV_U1uP9"
      },
      "source": [
        "circuit=QuantumCircuit(qr,cr)"
      ],
      "execution_count": 22,
      "outputs": []
    },
    {
      "cell_type": "markdown",
      "metadata": {
        "id": "N4P4hoer8SRJ"
      },
      "source": [
        "The input to this circuit will be X as 1 and Y as 0 "
      ]
    },
    {
      "cell_type": "code",
      "metadata": {
        "id": "_9MYFlKE14Kk",
        "outputId": "801b6dd8-8bc4-44be-fa08-ed84017003da",
        "colab": {
          "base_uri": "https://localhost:8080/",
          "height": 36
        }
      },
      "source": [
        "#Sum\n",
        "circuit.x(q[0])\n",
        "circuit.cx(q[0],q[3])\n",
        "circuit.cx(q[1],q[3])\n",
        "circuit.cx(q[2],q[3])\n",
        "#Carry\n",
        "circuit.ccx(q[0],q[1],q[4])\n",
        "circuit.ccx(q[0],q[2],q[4])\n",
        "circuit.ccx(q[1],q[2],q[4])\n",
        "\n",
        "#Masuring output sum and carry\n",
        "circuit.measure(q[3],c[0])\n",
        "circuit.measure(q[4],c[1])"
      ],
      "execution_count": 23,
      "outputs": [
        {
          "output_type": "execute_result",
          "data": {
            "text/plain": [
              "<qiskit.circuit.instructionset.InstructionSet at 0x7f1d2d340a20>"
            ]
          },
          "metadata": {
            "tags": []
          },
          "execution_count": 23
        }
      ]
    },
    {
      "cell_type": "code",
      "metadata": {
        "id": "kOOagcXy3JQ2",
        "outputId": "0831c86e-551f-4ba3-fc79-7ac3226a73b4",
        "colab": {
          "base_uri": "https://localhost:8080/",
          "height": 217
        }
      },
      "source": [
        "circuit.draw()"
      ],
      "execution_count": 25,
      "outputs": [
        {
          "output_type": "execute_result",
          "data": {
            "text/html": [
              "<pre style=\"word-wrap: normal;white-space: pre;background: #fff0;line-height: 1.1;font-family: &quot;Courier New&quot;,Courier,monospace\">     ┌───┐                                    \n",
              "q_0: ┤ X ├──■──────────────■────■─────────────\n",
              "     └───┘  │              │    │             \n",
              "q_1: ───────┼────■─────────■────┼───────■─────\n",
              "            │    │         │    │       │     \n",
              "q_2: ───────┼────┼────■────┼────■───────■─────\n",
              "          ┌─┴─┐┌─┴─┐┌─┴─┐  │    │  ┌─┐  │     \n",
              "q_3: ─────┤ X ├┤ X ├┤ X ├──┼────┼──┤M├──┼─────\n",
              "          └───┘└───┘└───┘┌─┴─┐┌─┴─┐└╥┘┌─┴─┐┌─┐\n",
              "q_4: ────────────────────┤ X ├┤ X ├─╫─┤ X ├┤M├\n",
              "                         └───┘└───┘ ║ └───┘└╥┘\n",
              "c: 2/═══════════════════════════════╩═══════╩═\n",
              "                                    0       1 </pre>"
            ],
            "text/plain": [
              "     ┌───┐                                    \n",
              "q_0: ┤ X ├──■──────────────■────■─────────────\n",
              "     └───┘  │              │    │             \n",
              "q_1: ───────┼────■─────────■────┼───────■─────\n",
              "            │    │         │    │       │     \n",
              "q_2: ───────┼────┼────■────┼────■───────■─────\n",
              "          ┌─┴─┐┌─┴─┐┌─┴─┐  │    │  ┌─┐  │     \n",
              "q_3: ─────┤ X ├┤ X ├┤ X ├──┼────┼──┤M├──┼─────\n",
              "          └───┘└───┘└───┘┌─┴─┐┌─┴─┐└╥┘┌─┴─┐┌─┐\n",
              "q_4: ────────────────────┤ X ├┤ X ├─╫─┤ X ├┤M├\n",
              "                         └───┘└───┘ ║ └───┘└╥┘\n",
              "c: 2/═══════════════════════════════╩═══════╩═\n",
              "                                    0       1 "
            ]
          },
          "metadata": {
            "tags": []
          },
          "execution_count": 25
        }
      ]
    },
    {
      "cell_type": "markdown",
      "metadata": {
        "id": "NV3J0jOu6-nn"
      },
      "source": [
        "Now let's execute this on a simulator and get the output for only one shot"
      ]
    },
    {
      "cell_type": "code",
      "metadata": {
        "id": "u9Xillo43UMW"
      },
      "source": [
        "simulator=Aer.get_backend('qasm_simulator')\n",
        "result = execute(circuit,simulator,shots=1).result()"
      ],
      "execution_count": 26,
      "outputs": []
    },
    {
      "cell_type": "code",
      "metadata": {
        "id": "9ynoIzDc62PF"
      },
      "source": [
        "from qiskit.tools.visualization import plot_histogram"
      ],
      "execution_count": 27,
      "outputs": []
    },
    {
      "cell_type": "code",
      "metadata": {
        "id": "l3t5aGS97hte",
        "outputId": "4c30af4b-a95d-4806-e7b7-c6f349b4acf6",
        "colab": {
          "base_uri": "https://localhost:8080/",
          "height": 331
        }
      },
      "source": [
        "plot_histogram(result.get_counts(circuit))"
      ],
      "execution_count": 28,
      "outputs": [
        {
          "output_type": "execute_result",
          "data": {
            "image/png": "[encoded data removed]",
            "text/plain": [
              "<Figure size 504x360 with 1 Axes>"
            ]
          },
          "metadata": {
            "tags": []
          },
          "execution_count": 28
        }
      ]
    },
    {
      "cell_type": "markdown",
      "metadata": {
        "id": "jPCYdgLy7vVp"
      },
      "source": [
        "As expected we get sum as 1 and carry as 0 for inputs 0 and 1"
      ]
    },
    {
      "cell_type": "markdown",
      "metadata": {
        "id": "hboDHKju88ls"
      },
      "source": [
        "# Optimizing the Circuit"
      ]
    },
    {
      "cell_type": "markdown",
      "metadata": {
        "id": "6nVbBXkl9Fm2"
      },
      "source": [
        "*   Mathematically it is easy to design and gates as unitary operators and non- gate operators like measurment to a qubits. \n",
        "*   But todays noisy quantum systems have many limitaitions and are prone to errors hence they can just support few fundamental operation \n",
        "*   Due to which, any quantum circuits that is built on top of these quantum systems must be expressed using only these basis gates"
      ]
    },
    {
      "cell_type": "markdown",
      "metadata": {
        "id": "eJ-kH8oKEDOV"
      },
      "source": [
        "##### Now let's try and break this circuit in it's corresponding basis gates using `decompose()` function"
      ]
    },
    {
      "cell_type": "code",
      "metadata": {
        "id": "VPVZGn6b7p9w",
        "outputId": "99684f68-4dcc-4343-d7fa-40ef9a98e63f",
        "colab": {
          "base_uri": "https://localhost:8080/",
          "height": 618
        }
      },
      "source": [
        "circuit_basis=circuit.decompose()\n",
        "circuit_basis.draw()"
      ],
      "execution_count": 42,
      "outputs": [
        {
          "output_type": "execute_result",
          "data": {
            "text/html": [
              "<pre style=\"word-wrap: normal;white-space: pre;background: #fff0;line-height: 1.1;font-family: &quot;Courier New&quot;,Courier,monospace\">     ┌─────────────┐                                                         »\n",
              "q_0: ┤ U3(pi,0,pi) ├──■─────────────────────────────■─────────────────────■──»\n",
              "     └─────────────┘  │                             │             ┌───┐   │  »\n",
              "q_1: ─────────────────┼────■─────────■──────────────┼─────────■───┤ T ├───┼──»\n",
              "                      │    │         │              │         │   └───┘   │  »\n",
              "q_2: ─────────────────┼────┼────■────┼──────────────┼─────────┼───────────┼──»\n",
              "                    ┌─┴─┐┌─┴─┐┌─┴─┐  │         ┌─┐  │         │           │  »\n",
              "q_3: ───────────────┤ X ├┤ X ├┤ X ├──┼─────────┤M├──┼─────────┼───────────┼──»\n",
              "          ┌───┐     └───┘└───┘└───┘┌─┴─┐┌─────┐└╥┘┌─┴─┐┌───┐┌─┴─┐┌─────┐┌─┴─┐»\n",
              "q_4: ─────┤ H ├────────────────────┤ X ├┤ TDG ├─╫─┤ X ├┤ T ├┤ X ├┤ TDG ├┤ X ├»\n",
              "          └───┘                    └───┘└─────┘ ║ └───┘└───┘└───┘└─────┘└───┘»\n",
              "c: 2/═══════════════════════════════════════════╩════════════════════════════»\n",
              "                                                0                            »\n",
              "«           ┌───┐                                                   ┌───┐      »\n",
              "«q_0: ──■───┤ T ├───■────────────────■─────────────────────■────■───┤ T ├───■──»\n",
              "«     ┌─┴─┐┌┴───┴┐┌─┴─┐              │                     │    │   └───┘   │  »\n",
              "«q_1: ┤ X ├┤ TDG ├┤ X ├──────────────┼─────────────────────┼────┼───────────┼──»\n",
              "«     └───┘└─────┘└───┘              │             ┌───┐   │  ┌─┴─┐┌─────┐┌─┴─┐»\n",
              "«q_2: ───────────────────■───────────┼─────────■───┤ T ├───┼──┤ X ├┤ TDG ├┤ X ├»\n",
              "«                        │           │         │   └───┘   │  └───┘└─────┘└───┘»\n",
              "«q_3: ───────────────────┼───────────┼─────────┼───────────┼───────────────────»\n",
              "«     ┌───┐ ┌───┐ ┌───┐┌─┴─┐┌─────┐┌─┴─┐┌───┐┌─┴─┐┌─────┐┌─┴─┐┌───┐ ┌───┐ ┌───┐»\n",
              "«q_4: ┤ T ├─┤ H ├─┤ H ├┤ X ├┤ TDG ├┤ X ├┤ T ├┤ X ├┤ TDG ├┤ X ├┤ T ├─┤ H ├─┤ H ├»\n",
              "«     └───┘ └───┘ └───┘└───┘└─────┘└───┘└───┘└───┘└─────┘└───┘└───┘ └───┘ └───┘»\n",
              "«c: 2/═════════════════════════════════════════════════════════════════════════»\n",
              "«                                                                              »\n",
              "«                                                             \n",
              "«q_0: ────────────────────────────────────────────────────────\n",
              "«                                                  ┌───┐      \n",
              "«q_1: ──────────────■─────────────────────■────■───┤ T ├───■──\n",
              "«                   │             ┌───┐   │  ┌─┴─┐┌┴───┴┐┌─┴─┐\n",
              "«q_2: ──■───────────┼─────────■───┤ T ├───┼──┤ X ├┤ TDG ├┤ X ├\n",
              "«       │           │         │   └───┘   │  └───┘└─────┘└───┘\n",
              "«q_3: ──┼───────────┼─────────┼───────────┼───────────────────\n",
              "«     ┌─┴─┐┌─────┐┌─┴─┐┌───┐┌─┴─┐┌─────┐┌─┴─┐┌───┐ ┌───┐  ┌─┐ \n",
              "«q_4: ┤ X ├┤ TDG ├┤ X ├┤ T ├┤ X ├┤ TDG ├┤ X ├┤ T ├─┤ H ├──┤M├─\n",
              "«     └───┘└─────┘└───┘└───┘└───┘└─────┘└───┘└───┘ └───┘  └╥┘ \n",
              "«c: 2/═════════════════════════════════════════════════════╩══\n",
              "«                                                          1  </pre>"
            ],
            "text/plain": [
              "     ┌─────────────┐                                                         »\n",
              "q_0: ┤ U3(pi,0,pi) ├──■─────────────────────────────■─────────────────────■──»\n",
              "     └─────────────┘  │                             │             ┌───┐   │  »\n",
              "q_1: ─────────────────┼────■─────────■──────────────┼─────────■───┤ T ├───┼──»\n",
              "                      │    │         │              │         │   └───┘   │  »\n",
              "q_2: ─────────────────┼────┼────■────┼──────────────┼─────────┼───────────┼──»\n",
              "                    ┌─┴─┐┌─┴─┐┌─┴─┐  │         ┌─┐  │         │           │  »\n",
              "q_3: ───────────────┤ X ├┤ X ├┤ X ├──┼─────────┤M├──┼─────────┼───────────┼──»\n",
              "          ┌───┐     └───┘└───┘└───┘┌─┴─┐┌─────┐└╥┘┌─┴─┐┌───┐┌─┴─┐┌─────┐┌─┴─┐»\n",
              "q_4: ─────┤ H ├────────────────────┤ X ├┤ TDG ├─╫─┤ X ├┤ T ├┤ X ├┤ TDG ├┤ X ├»\n",
              "          └───┘                    └───┘└─────┘ ║ └───┘└───┘└───┘└─────┘└───┘»\n",
              "c: 2/═══════════════════════════════════════════╩════════════════════════════»\n",
              "                                                0                            »\n",
              "«           ┌───┐                                                   ┌───┐      »\n",
              "«q_0: ──■───┤ T ├───■────────────────■─────────────────────■────■───┤ T ├───■──»\n",
              "«     ┌─┴─┐┌┴───┴┐┌─┴─┐              │                     │    │   └───┘   │  »\n",
              "«q_1: ┤ X ├┤ TDG ├┤ X ├──────────────┼─────────────────────┼────┼───────────┼──»\n",
              "«     └───┘└─────┘└───┘              │             ┌───┐   │  ┌─┴─┐┌─────┐┌─┴─┐»\n",
              "«q_2: ───────────────────■───────────┼─────────■───┤ T ├───┼──┤ X ├┤ TDG ├┤ X ├»\n",
              "«                        │           │         │   └───┘   │  └───┘└─────┘└───┘»\n",
              "«q_3: ───────────────────┼───────────┼─────────┼───────────┼───────────────────»\n",
              "«     ┌───┐ ┌───┐ ┌───┐┌─┴─┐┌─────┐┌─┴─┐┌───┐┌─┴─┐┌─────┐┌─┴─┐┌───┐ ┌───┐ ┌───┐»\n",
              "«q_4: ┤ T ├─┤ H ├─┤ H ├┤ X ├┤ TDG ├┤ X ├┤ T ├┤ X ├┤ TDG ├┤ X ├┤ T ├─┤ H ├─┤ H ├»\n",
              "«     └───┘ └───┘ └───┘└───┘└─────┘└───┘└───┘└───┘└─────┘└───┘└───┘ └───┘ └───┘»\n",
              "«c: 2/═════════════════════════════════════════════════════════════════════════»\n",
              "«                                                                              »\n",
              "«                                                             \n",
              "«q_0: ────────────────────────────────────────────────────────\n",
              "«                                                  ┌───┐      \n",
              "«q_1: ──────────────■─────────────────────■────■───┤ T ├───■──\n",
              "«                   │             ┌───┐   │  ┌─┴─┐┌┴───┴┐┌─┴─┐\n",
              "«q_2: ──■───────────┼─────────■───┤ T ├───┼──┤ X ├┤ TDG ├┤ X ├\n",
              "«       │           │         │   └───┘   │  └───┘└─────┘└───┘\n",
              "«q_3: ──┼───────────┼─────────┼───────────┼───────────────────\n",
              "«     ┌─┴─┐┌─────┐┌─┴─┐┌───┐┌─┴─┐┌─────┐┌─┴─┐┌───┐ ┌───┐  ┌─┐ \n",
              "«q_4: ┤ X ├┤ TDG ├┤ X ├┤ T ├┤ X ├┤ TDG ├┤ X ├┤ T ├─┤ H ├──┤M├─\n",
              "«     └───┘└─────┘└───┘└───┘└───┘└─────┘└───┘└───┘ └───┘  └╥┘ \n",
              "«c: 2/═════════════════════════════════════════════════════╩══\n",
              "«                                                          1  "
            ]
          },
          "metadata": {
            "tags": []
          },
          "execution_count": 42
        }
      ]
    },
    {
      "cell_type": "markdown",
      "metadata": {
        "id": "i1jkXQOqEx7j"
      },
      "source": [
        "And as we can see the number of gates and the **depth** of the circuit **increases drasctically** when we break this full adder circuit in basis gates\n",
        "\n",
        "    Depth:  The circuit depth is the length of the longest path from the input to the output, moving forward in time along qubit wires."
      ]
    },
    {
      "cell_type": "code",
      "metadata": {
        "id": "hKw4gPKe8HtX",
        "outputId": "031ad582-e8fa-4ca9-9c54-1a62558db037",
        "colab": {
          "base_uri": "https://localhost:8080/",
          "height": 54
        }
      },
      "source": [
        "print('Initially: ', circuit.depth(), '\\nAfter Decompositon: ', circuit_basis.depth())"
      ],
      "execution_count": 68,
      "outputs": [
        {
          "output_type": "stream",
          "text": [
            "Initially:  7 \n",
            "After Decompositon:  33\n"
          ],
          "name": "stdout"
        }
      ]
    },
    {
      "cell_type": "markdown",
      "metadata": {
        "id": "IHPSTjMcGZHV"
      },
      "source": [
        "#### Now let's optimize this Full adder ciruit using the `Transpiler` module"
      ]
    },
    {
      "cell_type": "markdown",
      "metadata": {
        "id": "eXQMAUZ3HFoT"
      },
      "source": [
        "The transpilation process of Qiskit follows 6 `passes` and rewrites entire given input circuit either to match the toplogy to the physical quantum device and/or to optimize the circuit "
      ]
    },
    {
      "cell_type": "markdown",
      "metadata": {
        "id": "-sX5oKx7Hy7S"
      },
      "source": [
        "There are 4 pre-built transpilation pipelines available in Qiskit:\n",
        "1. `level_0_pass_manager`\n",
        "2. `level_1_pass_manager`\n",
        "3. `level_2_pass_manager`\n",
        "4. `level_3_pass_manager`\n",
        "\n",
        "Now Let's see how they will work for our case\n"
      ]
    },
    {
      "cell_type": "markdown",
      "metadata": {
        "id": "q_a3Y6U1IeXS"
      },
      "source": [
        "###Level 0 optimization"
      ]
    },
    {
      "cell_type": "code",
      "metadata": {
        "id": "j2ZOPMvZIwt5"
      },
      "source": [
        "transpiled_circuit=transpile(circuit,simulator,optimization_level=0)"
      ],
      "execution_count": 58,
      "outputs": []
    },
    {
      "cell_type": "code",
      "metadata": {
        "id": "qESnv3PQKC4Q",
        "outputId": "98e6edd7-f578-4f32-e58b-ed6da80ac3c8",
        "colab": {
          "base_uri": "https://localhost:8080/",
          "height": 217
        }
      },
      "source": [
        "transpiled_circuit.draw()"
      ],
      "execution_count": 59,
      "outputs": [
        {
          "output_type": "execute_result",
          "data": {
            "text/html": [
              "<pre style=\"word-wrap: normal;white-space: pre;background: #fff0;line-height: 1.1;font-family: &quot;Courier New&quot;,Courier,monospace\">     ┌───┐                                    \n",
              "q_0: ┤ X ├──■──────────────■────■─────────────\n",
              "     └───┘  │              │    │             \n",
              "q_1: ───────┼────■─────────■────┼───────■─────\n",
              "            │    │         │    │       │     \n",
              "q_2: ───────┼────┼────■────┼────■───────■─────\n",
              "          ┌─┴─┐┌─┴─┐┌─┴─┐  │    │  ┌─┐  │     \n",
              "q_3: ─────┤ X ├┤ X ├┤ X ├──┼────┼──┤M├──┼─────\n",
              "          └───┘└───┘└───┘┌─┴─┐┌─┴─┐└╥┘┌─┴─┐┌─┐\n",
              "q_4: ────────────────────┤ X ├┤ X ├─╫─┤ X ├┤M├\n",
              "                         └───┘└───┘ ║ └───┘└╥┘\n",
              "c: 2/═══════════════════════════════╩═══════╩═\n",
              "                                    0       1 </pre>"
            ],
            "text/plain": [
              "     ┌───┐                                    \n",
              "q_0: ┤ X ├──■──────────────■────■─────────────\n",
              "     └───┘  │              │    │             \n",
              "q_1: ───────┼────■─────────■────┼───────■─────\n",
              "            │    │         │    │       │     \n",
              "q_2: ───────┼────┼────■────┼────■───────■─────\n",
              "          ┌─┴─┐┌─┴─┐┌─┴─┐  │    │  ┌─┐  │     \n",
              "q_3: ─────┤ X ├┤ X ├┤ X ├──┼────┼──┤M├──┼─────\n",
              "          └───┘└───┘└───┘┌─┴─┐┌─┴─┐└╥┘┌─┴─┐┌─┐\n",
              "q_4: ────────────────────┤ X ├┤ X ├─╫─┤ X ├┤M├\n",
              "                         └───┘└───┘ ║ └───┘└╥┘\n",
              "c: 2/═══════════════════════════════╩═══════╩═\n",
              "                                    0       1 "
            ]
          },
          "metadata": {
            "tags": []
          },
          "execution_count": 59
        }
      ]
    },
    {
      "cell_type": "code",
      "metadata": {
        "id": "KOgIOIc-Kgvx",
        "outputId": "e097196d-3b4a-48e2-bd9d-8905e2fe18f8",
        "colab": {
          "base_uri": "https://localhost:8080/",
          "height": 54
        }
      },
      "source": [
        "print('Depth:', transpiled_circuit.depth())\n",
        "print('Gate counts:', transpiled_circuit.count_ops())"
      ],
      "execution_count": 60,
      "outputs": [
        {
          "output_type": "stream",
          "text": [
            "Depth: 7\n",
            "Gate counts: OrderedDict([('cx', 3), ('ccx', 3), ('measure', 2), ('x', 1)])\n"
          ],
          "name": "stdout"
        }
      ]
    },
    {
      "cell_type": "markdown",
      "metadata": {
        "id": "Ls9yI8i6JCfn"
      },
      "source": [
        "**Result** : No explicit optimization other than mapping to backend."
      ]
    },
    {
      "cell_type": "markdown",
      "metadata": {
        "id": "SrDGFiV7Imo6"
      },
      "source": [
        "###Level 1 optimization\n",
        "\n",
        "Optimizations by collapsing adjacent gates."
      ]
    },
    {
      "cell_type": "code",
      "metadata": {
        "id": "bSOBVh6nKrfZ",
        "outputId": "b70e5ffe-c992-4466-a515-e7419f474c7e",
        "colab": {
          "base_uri": "https://localhost:8080/",
          "height": 217
        }
      },
      "source": [
        "transpiled_circuit=transpile(circuit,simulator,optimization_level=1)\n",
        "transpiled_circuit.draw()"
      ],
      "execution_count": 61,
      "outputs": [
        {
          "output_type": "execute_result",
          "data": {
            "text/html": [
              "<pre style=\"word-wrap: normal;white-space: pre;background: #fff0;line-height: 1.1;font-family: &quot;Courier New&quot;,Courier,monospace\">     ┌───┐                                    \n",
              "q_0: ┤ X ├──■──────────────■────■─────────────\n",
              "     └───┘  │              │    │             \n",
              "q_1: ───────┼────■─────────■────┼───────■─────\n",
              "            │    │         │    │       │     \n",
              "q_2: ───────┼────┼────■────┼────■───────■─────\n",
              "          ┌─┴─┐┌─┴─┐┌─┴─┐  │    │  ┌─┐  │     \n",
              "q_3: ─────┤ X ├┤ X ├┤ X ├──┼────┼──┤M├──┼─────\n",
              "          └───┘└───┘└───┘┌─┴─┐┌─┴─┐└╥┘┌─┴─┐┌─┐\n",
              "q_4: ────────────────────┤ X ├┤ X ├─╫─┤ X ├┤M├\n",
              "                         └───┘└───┘ ║ └───┘└╥┘\n",
              "c: 2/═══════════════════════════════╩═══════╩═\n",
              "                                    0       1 </pre>"
            ],
            "text/plain": [
              "     ┌───┐                                    \n",
              "q_0: ┤ X ├──■──────────────■────■─────────────\n",
              "     └───┘  │              │    │             \n",
              "q_1: ───────┼────■─────────■────┼───────■─────\n",
              "            │    │         │    │       │     \n",
              "q_2: ───────┼────┼────■────┼────■───────■─────\n",
              "          ┌─┴─┐┌─┴─┐┌─┴─┐  │    │  ┌─┐  │     \n",
              "q_3: ─────┤ X ├┤ X ├┤ X ├──┼────┼──┤M├──┼─────\n",
              "          └───┘└───┘└───┘┌─┴─┐┌─┴─┐└╥┘┌─┴─┐┌─┐\n",
              "q_4: ────────────────────┤ X ├┤ X ├─╫─┤ X ├┤M├\n",
              "                         └───┘└───┘ ║ └───┘└╥┘\n",
              "c: 2/═══════════════════════════════╩═══════╩═\n",
              "                                    0       1 "
            ]
          },
          "metadata": {
            "tags": []
          },
          "execution_count": 61
        }
      ]
    },
    {
      "cell_type": "code",
      "metadata": {
        "id": "2g1WlIbxN_nT",
        "outputId": "741465a3-f8e8-4198-c536-5eaf1fb88e6f",
        "colab": {
          "base_uri": "https://localhost:8080/",
          "height": 54
        }
      },
      "source": [
        "print('Depth:', transpiled_circuit.depth())\n",
        "print('Gate counts:', transpiled_circuit.count_ops())"
      ],
      "execution_count": 62,
      "outputs": [
        {
          "output_type": "stream",
          "text": [
            "Depth: 7\n",
            "Gate counts: OrderedDict([('cx', 3), ('ccx', 3), ('measure', 2), ('x', 1)])\n"
          ],
          "name": "stdout"
        }
      ]
    },
    {
      "cell_type": "markdown",
      "metadata": {
        "id": "qDmo3CA9MmWt"
      },
      "source": [
        "**Result:** No optimization in terms of number of gates and depth"
      ]
    },
    {
      "cell_type": "markdown",
      "metadata": {
        "id": "2GhTw3-bIpnj"
      },
      "source": [
        "### Level 2 optimization\n",
        "\n",
        "Optimization by initial layout selection and gate cancellation using commutativity rules.\n"
      ]
    },
    {
      "cell_type": "code",
      "metadata": {
        "id": "MAxRqWpaL4xS",
        "outputId": "04f7daa1-0e1a-434b-9158-718fbae50249",
        "colab": {
          "base_uri": "https://localhost:8080/",
          "height": 217
        }
      },
      "source": [
        "transpiled_circuit=transpile(circuit,simulator,optimization_level=2)\n",
        "transpiled_circuit.draw()"
      ],
      "execution_count": 63,
      "outputs": [
        {
          "output_type": "execute_result",
          "data": {
            "text/html": [
              "<pre style=\"word-wrap: normal;white-space: pre;background: #fff0;line-height: 1.1;font-family: &quot;Courier New&quot;,Courier,monospace\">     ┌───┐                                    \n",
              "q_0: ┤ X ├──■──────────────■────■─────────────\n",
              "     └───┘  │              │    │             \n",
              "q_1: ───────┼────■─────────■────┼───────■─────\n",
              "            │    │         │    │       │     \n",
              "q_2: ───────┼────┼────■────┼────■───────■─────\n",
              "          ┌─┴─┐┌─┴─┐┌─┴─┐  │    │  ┌─┐  │     \n",
              "q_3: ─────┤ X ├┤ X ├┤ X ├──┼────┼──┤M├──┼─────\n",
              "          └───┘└───┘└───┘┌─┴─┐┌─┴─┐└╥┘┌─┴─┐┌─┐\n",
              "q_4: ────────────────────┤ X ├┤ X ├─╫─┤ X ├┤M├\n",
              "                         └───┘└───┘ ║ └───┘└╥┘\n",
              "c: 2/═══════════════════════════════╩═══════╩═\n",
              "                                    0       1 </pre>"
            ],
            "text/plain": [
              "     ┌───┐                                    \n",
              "q_0: ┤ X ├──■──────────────■────■─────────────\n",
              "     └───┘  │              │    │             \n",
              "q_1: ───────┼────■─────────■────┼───────■─────\n",
              "            │    │         │    │       │     \n",
              "q_2: ───────┼────┼────■────┼────■───────■─────\n",
              "          ┌─┴─┐┌─┴─┐┌─┴─┐  │    │  ┌─┐  │     \n",
              "q_3: ─────┤ X ├┤ X ├┤ X ├──┼────┼──┤M├──┼─────\n",
              "          └───┘└───┘└───┘┌─┴─┐┌─┴─┐└╥┘┌─┴─┐┌─┐\n",
              "q_4: ────────────────────┤ X ├┤ X ├─╫─┤ X ├┤M├\n",
              "                         └───┘└───┘ ║ └───┘└╥┘\n",
              "c: 2/═══════════════════════════════╩═══════╩═\n",
              "                                    0       1 "
            ]
          },
          "metadata": {
            "tags": []
          },
          "execution_count": 63
        }
      ]
    },
    {
      "cell_type": "code",
      "metadata": {
        "id": "O5UaK0hzN9fI",
        "outputId": "ec573d83-bf46-4d2f-87dd-6f891125b85e",
        "colab": {
          "base_uri": "https://localhost:8080/",
          "height": 54
        }
      },
      "source": [
        "print('Depth:', transpiled_circuit.depth())\n",
        "print('Gate counts:', transpiled_circuit.count_ops())"
      ],
      "execution_count": 64,
      "outputs": [
        {
          "output_type": "stream",
          "text": [
            "Depth: 7\n",
            "Gate counts: OrderedDict([('cx', 3), ('ccx', 3), ('measure', 2), ('x', 1)])\n"
          ],
          "name": "stdout"
        }
      ]
    },
    {
      "cell_type": "markdown",
      "metadata": {
        "id": "bqxYJyX_NptF"
      },
      "source": [
        "**Result:** No optimizations on Level 2"
      ]
    },
    {
      "cell_type": "markdown",
      "metadata": {
        "id": "iRIGYMZ1Itvc"
      },
      "source": [
        "###Level 3 optimization\n",
        "Optimization by noise adaptive qubit mapping and gate cancellation using commutativity rules and unitary synthesis."
      ]
    },
    {
      "cell_type": "code",
      "metadata": {
        "id": "p05sENGHGFHt",
        "outputId": "f5c287fa-32fd-49b9-c7a5-e33339f0838d",
        "colab": {
          "base_uri": "https://localhost:8080/",
          "height": 618
        }
      },
      "source": [
        "transpiled_circuit=transpile(circuit,simulator,optimization_level=3)\n",
        "transpiled_circuit.draw()"
      ],
      "execution_count": 65,
      "outputs": [
        {
          "output_type": "execute_result",
          "data": {
            "text/html": [
              "<pre style=\"word-wrap: normal;white-space: pre;background: #fff0;line-height: 1.1;font-family: &quot;Courier New&quot;,Courier,monospace\">     ┌───┐                                                              »\n",
              "q_0: ┤ X ├──■─────────────────────────────■─────────────────────■────■──»\n",
              "     └───┘  │                             │             ┌───┐   │  ┌─┴─┐»\n",
              "q_1: ───────┼────■─────────■──────────────┼─────────■───┤ T ├───┼──┤ X ├»\n",
              "            │    │         │              │         │   └───┘   │  └───┘»\n",
              "q_2: ───────┼────┼────■────┼──────────────┼─────────┼───────────┼───────»\n",
              "          ┌─┴─┐┌─┴─┐┌─┴─┐  │         ┌─┐  │         │           │       »\n",
              "q_3: ─────┤ X ├┤ X ├┤ X ├──┼─────────┤M├──┼─────────┼───────────┼───────»\n",
              "     ┌───┐└───┘└───┘└───┘┌─┴─┐┌─────┐└╥┘┌─┴─┐┌───┐┌─┴─┐┌─────┐┌─┴─┐┌───┐»\n",
              "q_4: ┤ H ├───────────────┤ X ├┤ TDG ├─╫─┤ X ├┤ T ├┤ X ├┤ TDG ├┤ X ├┤ T ├»\n",
              "     └───┘               └───┘└─────┘ ║ └───┘└───┘└───┘└─────┘└───┘└───┘»\n",
              "c: 2/═════════════════════════════════╩═════════════════════════════════»\n",
              "                                      0                                 »\n",
              "«     ┌──────────┐                                                        »\n",
              "«q_0: ┤ U1(pi/2) ├───■─────■─────────────────────■────■───────────■───────»\n",
              "«     └─┬─────┬──┘ ┌─┴─┐   │                     │    │           │       »\n",
              "«q_1: ──┤ TDG ├────┤ X ├───┼─────────────────────┼────┼───────────┼───────»\n",
              "«       └─────┘    └───┘   │             ┌───┐   │  ┌─┴─┐┌─────┐┌─┴─┐     »\n",
              "«q_2: ─────■───────────────┼─────────■───┤ T ├───┼──┤ X ├┤ TDG ├┤ X ├──■──»\n",
              "«          │               │         │   └───┘   │  └───┘└─────┘└───┘  │  »\n",
              "«q_3: ─────┼───────────────┼─────────┼───────────┼─────────────────────┼──»\n",
              "«        ┌─┴─┐    ┌─────┐┌─┴─┐┌───┐┌─┴─┐┌─────┐┌─┴─┐┌───┐            ┌─┴─┐»\n",
              "«q_4: ───┤ X ├────┤ TDG ├┤ X ├┤ T ├┤ X ├┤ TDG ├┤ X ├┤ T ├────────────┤ X ├»\n",
              "«        └───┘    └─────┘└───┘└───┘└───┘└─────┘└───┘└───┘            └───┘»\n",
              "«c: 2/════════════════════════════════════════════════════════════════════»\n",
              "«                                                                         »\n",
              "«                                                        \n",
              "«q_0: ───────────────────────────────────────────────────\n",
              "«                                             ┌───┐      \n",
              "«q_1: ─────────■─────────────────────■────■───┤ T ├───■──\n",
              "«              │             ┌───┐   │  ┌─┴─┐┌┴───┴┐┌─┴─┐\n",
              "«q_2: ─────────┼─────────■───┤ T ├───┼──┤ X ├┤ TDG ├┤ X ├\n",
              "«              │         │   └───┘   │  └───┘└─────┘└───┘\n",
              "«q_3: ─────────┼─────────┼───────────┼───────────────────\n",
              "«     ┌─────┐┌─┴─┐┌───┐┌─┴─┐┌─────┐┌─┴─┐┌───┐ ┌───┐  ┌─┐ \n",
              "«q_4: ┤ TDG ├┤ X ├┤ T ├┤ X ├┤ TDG ├┤ X ├┤ T ├─┤ H ├──┤M├─\n",
              "«     └─────┘└───┘└───┘└───┘└─────┘└───┘└───┘ └───┘  └╥┘ \n",
              "«c: 2/════════════════════════════════════════════════╩══\n",
              "«                                                     1  </pre>"
            ],
            "text/plain": [
              "     ┌───┐                                                              »\n",
              "q_0: ┤ X ├──■─────────────────────────────■─────────────────────■────■──»\n",
              "     └───┘  │                             │             ┌───┐   │  ┌─┴─┐»\n",
              "q_1: ───────┼────■─────────■──────────────┼─────────■───┤ T ├───┼──┤ X ├»\n",
              "            │    │         │              │         │   └───┘   │  └───┘»\n",
              "q_2: ───────┼────┼────■────┼──────────────┼─────────┼───────────┼───────»\n",
              "          ┌─┴─┐┌─┴─┐┌─┴─┐  │         ┌─┐  │         │           │       »\n",
              "q_3: ─────┤ X ├┤ X ├┤ X ├──┼─────────┤M├──┼─────────┼───────────┼───────»\n",
              "     ┌───┐└───┘└───┘└───┘┌─┴─┐┌─────┐└╥┘┌─┴─┐┌───┐┌─┴─┐┌─────┐┌─┴─┐┌───┐»\n",
              "q_4: ┤ H ├───────────────┤ X ├┤ TDG ├─╫─┤ X ├┤ T ├┤ X ├┤ TDG ├┤ X ├┤ T ├»\n",
              "     └───┘               └───┘└─────┘ ║ └───┘└───┘└───┘└─────┘└───┘└───┘»\n",
              "c: 2/═════════════════════════════════╩═════════════════════════════════»\n",
              "                                      0                                 »\n",
              "«     ┌──────────┐                                                        »\n",
              "«q_0: ┤ U1(pi/2) ├───■─────■─────────────────────■────■───────────■───────»\n",
              "«     └─┬─────┬──┘ ┌─┴─┐   │                     │    │           │       »\n",
              "«q_1: ──┤ TDG ├────┤ X ├───┼─────────────────────┼────┼───────────┼───────»\n",
              "«       └─────┘    └───┘   │             ┌───┐   │  ┌─┴─┐┌─────┐┌─┴─┐     »\n",
              "«q_2: ─────■───────────────┼─────────■───┤ T ├───┼──┤ X ├┤ TDG ├┤ X ├──■──»\n",
              "«          │               │         │   └───┘   │  └───┘└─────┘└───┘  │  »\n",
              "«q_3: ─────┼───────────────┼─────────┼───────────┼─────────────────────┼──»\n",
              "«        ┌─┴─┐    ┌─────┐┌─┴─┐┌───┐┌─┴─┐┌─────┐┌─┴─┐┌───┐            ┌─┴─┐»\n",
              "«q_4: ───┤ X ├────┤ TDG ├┤ X ├┤ T ├┤ X ├┤ TDG ├┤ X ├┤ T ├────────────┤ X ├»\n",
              "«        └───┘    └─────┘└───┘└───┘└───┘└─────┘└───┘└───┘            └───┘»\n",
              "«c: 2/════════════════════════════════════════════════════════════════════»\n",
              "«                                                                         »\n",
              "«                                                        \n",
              "«q_0: ───────────────────────────────────────────────────\n",
              "«                                             ┌───┐      \n",
              "«q_1: ─────────■─────────────────────■────■───┤ T ├───■──\n",
              "«              │             ┌───┐   │  ┌─┴─┐┌┴───┴┐┌─┴─┐\n",
              "«q_2: ─────────┼─────────■───┤ T ├───┼──┤ X ├┤ TDG ├┤ X ├\n",
              "«              │         │   └───┘   │  └───┘└─────┘└───┘\n",
              "«q_3: ─────────┼─────────┼───────────┼───────────────────\n",
              "«     ┌─────┐┌─┴─┐┌───┐┌─┴─┐┌─────┐┌─┴─┐┌───┐ ┌───┐  ┌─┐ \n",
              "«q_4: ┤ TDG ├┤ X ├┤ T ├┤ X ├┤ TDG ├┤ X ├┤ T ├─┤ H ├──┤M├─\n",
              "«     └─────┘└───┘└───┘└───┘└─────┘└───┘└───┘ └───┘  └╥┘ \n",
              "«c: 2/════════════════════════════════════════════════╩══\n",
              "«                                                     1  "
            ]
          },
          "metadata": {
            "tags": []
          },
          "execution_count": 65
        }
      ]
    },
    {
      "cell_type": "code",
      "metadata": {
        "id": "f-ViQNwFN6Wh",
        "outputId": "06e6a0b2-76f5-49e5-9010-5d37e9762efe",
        "colab": {
          "base_uri": "https://localhost:8080/",
          "height": 54
        }
      },
      "source": [
        "print('Depth:', transpiled_circuit.depth())\n",
        "print('Gate counts:', transpiled_circuit.count_ops())"
      ],
      "execution_count": 66,
      "outputs": [
        {
          "output_type": "stream",
          "text": [
            "Depth: 31\n",
            "Gate counts: OrderedDict([('cx', 21), ('t', 10), ('tdg', 9), ('h', 2), ('measure', 2), ('x', 1), ('u1', 1)])\n"
          ],
          "name": "stdout"
        }
      ]
    },
    {
      "cell_type": "code",
      "metadata": {
        "id": "qJu6u0AVShac"
      },
      "source": [
        "IBMQ.save_account('API-TOKEN')"
      ],
      "execution_count": 77,
      "outputs": []
    },
    {
      "cell_type": "code",
      "metadata": {
        "id": "8N5Z-NjYRnvW",
        "outputId": "4f5f097c-5c5c-4f54-f7ea-3df1d57037ec",
        "colab": {
          "base_uri": "https://localhost:8080/",
          "height": 112
        }
      },
      "source": [
        "IBMQ.load_account()"
      ],
      "execution_count": 78,
      "outputs": [
        {
          "output_type": "stream",
          "text": [
            "/usr/local/lib/python3.6/dist-packages/qiskit/providers/ibmq/ibmqfactory.py:192: UserWarning: Timestamps in IBMQ backend properties, jobs, and job results are all now in local time instead of UTC.\n",
            "  warnings.warn('Timestamps in IBMQ backend properties, jobs, and job results '\n",
            "ibmqfactory.load_account:WARNING:2020-10-13 18:47:55,191: Credentials are already in use. The existing account in the session will be replaced.\n"
          ],
          "name": "stderr"
        },
        {
          "output_type": "execute_result",
          "data": {
            "text/plain": [
              "<AccountProvider for IBMQ(hub='ibm-q', group='open', project='main')>"
            ]
          },
          "metadata": {
            "tags": []
          },
          "execution_count": 78
        }
      ]
    },
    {
      "cell_type": "code",
      "metadata": {
        "id": "80tSIavEL-6t"
      },
      "source": [
        "provider = IBMQ.get_provider(hub='ibm-q')\n",
        "device=provider.get_backend('ibmq_valencia')\n",
        "transpiled_circuit=transpile(circuit,device,optimization_level=0)\n",
        "job =device.run(assemble(transpiled_circuit,shots=2048))"
      ],
      "execution_count": 87,
      "outputs": []
    },
    {
      "cell_type": "code",
      "metadata": {
        "id": "VsOj1CTbRMjc"
      },
      "source": [
        "from qiskit.tools.monitor import job_monitor"
      ],
      "execution_count": 88,
      "outputs": []
    },
    {
      "cell_type": "code",
      "metadata": {
        "id": "zFcQ4hJoRfym",
        "outputId": "2f2fc931-4a40-4051-bac3-0dd99e07d534",
        "colab": {
          "base_uri": "https://localhost:8080/",
          "height": 36
        }
      },
      "source": [
        "job_monitor(job)"
      ],
      "execution_count": 89,
      "outputs": [
        {
          "output_type": "stream",
          "text": [
            "Job Status: job has successfully run\n"
          ],
          "name": "stdout"
        }
      ]
    },
    {
      "cell_type": "code",
      "metadata": {
        "id": "n2pR5uEFRQ_n",
        "outputId": "b377f391-b0ff-49b3-bb6c-5dbe69ad0059",
        "colab": {
          "base_uri": "https://localhost:8080/",
          "height": 331
        }
      },
      "source": [
        "result=job.result().get_counts()\n",
        "plot_histogram(result)"
      ],
      "execution_count": 90,
      "outputs": [
        {
          "output_type": "execute_result",
          "data": {
            "image/png": "[encoded data removed]",
            "text/plain": [
              "<Figure size 504x360 with 1 Axes>"
            ]
          },
          "metadata": {
            "tags": []
          },
          "execution_count": 90
        }
      ]
    },
    {
      "cell_type": "code",
      "metadata": {
        "id": "VGg5MXA4SnQl",
        "outputId": "738235aa-631b-4b08-f14b-4e7df6310134",
        "colab": {
          "base_uri": "https://localhost:8080/",
          "height": 36
        }
      },
      "source": [
        "provider = IBMQ.get_provider(hub='ibm-q')\n",
        "device=provider.get_backend('ibmq_valencia')\n",
        "transpiled_circuit=transpile(circuit,device,optimization_level=3)\n",
        "job =device.run(assemble(transpiled_circuit,shots=6000))\n",
        "\n",
        "job_monitor(job)"
      ],
      "execution_count": 101,
      "outputs": [
        {
          "output_type": "stream",
          "text": [
            "Job Status: job has successfully run\n"
          ],
          "name": "stdout"
        }
      ]
    },
    {
      "cell_type": "code",
      "metadata": {
        "id": "lkEJbpW3UX7x",
        "outputId": "db02f096-34fb-4ddf-8e0e-018c88680118",
        "colab": {
          "base_uri": "https://localhost:8080/",
          "height": 331
        }
      },
      "source": [
        "result=job.result().get_counts()\n",
        "plot_histogram(result)"
      ],
      "execution_count": 102,
      "outputs": [
        {
          "output_type": "execute_result",
          "data": {
            "image/png": "[encoded data removed]",
            "text/plain": [
              "<Figure size 504x360 with 1 Axes>"
            ]
          },
          "metadata": {
            "tags": []
          },
          "execution_count": 102
        }
      ]
    },
    {
      "cell_type": "markdown",
      "metadata": {
        "id": "3AQzvmcBYyqc"
      },
      "source": [
        "As we can see when the Full adder circuit is optimized to Level 3 the Depth of the circuit increases and that makes it more prone to error and noise.\n",
        "\n",
        "The Results may vary every time the circuit is executed"
      ]
    },
    {
      "cell_type": "code",
      "metadata": {
        "id": "gok4kzExUZUF"
      },
      "source": [
        ""
      ],
      "execution_count": 98,
      "outputs": []
    }
  ]
}